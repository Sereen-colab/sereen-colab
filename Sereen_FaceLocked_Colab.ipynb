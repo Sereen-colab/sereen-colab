{
  "cells": [
    {
      "cell_type": "markdown",
      "metadata": {},
      "source": [
        "# Sereen Face-Locked Generator (Colab)\n",
        "\n",
        "This notebook installs **Stable Diffusion WebUI (AUTOMATIC1111)** + **ReActor (face locking)** and launches a **public Gradio link** so you can generate images with Sereen’s *exact same face* every time.\n",
        "\n",
        "### How to use\n",
        "1) Runtime → **Run all** (first run takes ~10–15 min)\n",
        "2) Scroll to the last code cell and click the **Gradio public URL**\n",
        "3) In the WebUI → **Extensions → ReActor**:\n",
        "   - Upload your **anchor face** (Sereen_01)\n",
        "   - **Swap strength** ≈ **0.7**\n",
        "   - **Restore face** **ON**\n",
        "   - Save\n",
        "4) Go back to **txt2img**, paste a prompt from the prompts file, and generate.\n"
      ]
    }
  ],
  "metadata": {
    "kernelspec": { "display_name": "Python 3", "language": "python", "name": "python3" },
    "language_info": { "name": "python", "version": "3.10" },
    "colab": { "provenance": [] }
  },
  "nbformat": 4,
  "nbformat_minor": 5
}